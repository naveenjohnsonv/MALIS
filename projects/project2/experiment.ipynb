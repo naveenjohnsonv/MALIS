{
 "cells": [
  {
   "cell_type": "code",
   "execution_count": 1,
   "id": "b5c95171-2b1c-4dc7-a8ec-4d088ee32a40",
   "metadata": {},
   "outputs": [],
   "source": [
    "import numpy as np\n",
    "from sklearn.datasets import load_digits\n",
    "from sklearn.model_selection import train_test_split\n",
    "from sklearn.metrics import accuracy_score\n",
    "from perceptron import Perceptron"
   ]
  },
  {
   "cell_type": "code",
   "execution_count": 2,
   "id": "717df08b-9523-4650-8992-cd18bec10faf",
   "metadata": {},
   "outputs": [],
   "source": [
    "# Load from the UCI ML hand-written digits dataset\n",
    "digits = load_digits()\n",
    "# Filter the data for binary classification (digits 0 and 1)\n",
    "X, y = digits.images[digits.target < 2], digits.target[digits.target < 2]\n",
    "# Reshape the images to 1D arrays\n",
    "X = X.reshape((X.shape[0], -1))"
   ]
  },
  {
   "cell_type": "code",
   "execution_count": 3,
   "id": "abb86702-8ba6-4b99-93d4-87294824b7cd",
   "metadata": {},
   "outputs": [],
   "source": [
    "# Create Train, Test and Validation sets\n",
    "X_temp, X_test, y_temp, y_test = train_test_split(X, y, test_size=0.2, random_state=42)\n",
    "X_train, X_val, y_train, y_val = train_test_split(X_temp, y_temp, test_size=0.25, random_state=42)"
   ]
  },
  {
   "cell_type": "code",
   "execution_count": 4,
   "id": "92f4cf84-96f3-43c8-be80-f0b9aa271baf",
   "metadata": {},
   "outputs": [
    {
     "name": "stdout",
     "output_type": "stream",
     "text": [
      "Accuracy on validation set: 100.0%\n",
      "Accuracy on test set: 98.61111111111111%\n"
     ]
    }
   ],
   "source": [
    "# Create a Perceptron object\n",
    "p = Perceptron(learning_rate=0.01, epochs=1000)\n",
    "\n",
    "# Train the perceptron on train data\n",
    "p.train(X_train, y_train)\n",
    "\n",
    "# Make predictions on the validation set\n",
    "y_pred = p.predict(X_val)\n",
    "\n",
    "# Calculate the accuracy of the model on the validation set\n",
    "accuracy = accuracy_score(y_val, y_pred)\n",
    "print(f'Accuracy on validation set: {accuracy * 100}%')\n",
    "\n",
    "# Make predictions on the test set and calculate accuracy\n",
    "y_pred_2 = p.predict(X_test)\n",
    "accuracy_test = accuracy_score(y_test, y_pred_2)\n",
    "print(f'Accuracy on test set: {accuracy_test * 100}%')"
   ]
  }
 ],
 "metadata": {
  "kernelspec": {
   "display_name": "Python 3 (ipykernel)",
   "language": "python",
   "name": "python3"
  },
  "language_info": {
   "codemirror_mode": {
    "name": "ipython",
    "version": 3
   },
   "file_extension": ".py",
   "mimetype": "text/x-python",
   "name": "python",
   "nbconvert_exporter": "python",
   "pygments_lexer": "ipython3",
   "version": "3.8.18"
  }
 },
 "nbformat": 4,
 "nbformat_minor": 5
}
